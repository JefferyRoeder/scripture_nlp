{
 "cells": [
  {
   "cell_type": "code",
   "execution_count": 1,
   "metadata": {},
   "outputs": [],
   "source": [
    "import warnings\n",
    "warnings.filterwarnings(\"ignore\")\n",
    "\n",
    "import pandas as pd\n",
    "import numpy as np\n",
    "import seaborn as sns\n",
    "import matplotlib.pyplot as plt\n",
    "\n",
    "import unicodedata\n",
    "import re\n",
    "import nltk\n",
    "from nltk.tokenize.toktok import ToktokTokenizer\n",
    "from nltk.corpus import stopwords\n",
    "from nltk.sentiment.vader import SentimentIntensityAnalyzer\n",
    "\n",
    "import prep\n",
    "import acquire"
   ]
  },
  {
   "cell_type": "markdown",
   "metadata": {},
   "source": [
    "## Sentiment analysis of books of different religious texts\n",
    "\n",
    "An overview using natural language processing and vader sentiment analysis to look at what percent of verses are very positive, positive, neutral, negative, and very negative."
   ]
  },
  {
   "cell_type": "markdown",
   "metadata": {},
   "source": [
    "### Bible"
   ]
  },
  {
   "cell_type": "code",
   "execution_count": null,
   "metadata": {},
   "outputs": [],
   "source": [
    "df = acquire.bible_wrangle()"
   ]
  },
  {
   "cell_type": "code",
   "execution_count": null,
   "metadata": {},
   "outputs": [],
   "source": [
    "df.head(2)"
   ]
  },
  {
   "cell_type": "code",
   "execution_count": null,
   "metadata": {},
   "outputs": [],
   "source": [
    "#removing stopwords, lower casing, and tokenizing each verse.\n",
    "df.text = df.text.apply(prep.basic_clean)\n",
    "df.text = df.text.apply(prep.remove_stopwords)"
   ]
  },
  {
   "cell_type": "code",
   "execution_count": null,
   "metadata": {},
   "outputs": [],
   "source": [
    "# creating column for each verse stemmed.\n",
    "df['stemmed'] = df.text.apply(prep.stem)"
   ]
  },
  {
   "cell_type": "code",
   "execution_count": null,
   "metadata": {},
   "outputs": [],
   "source": [
    "df.head(2)"
   ]
  },
  {
   "cell_type": "code",
   "execution_count": null,
   "metadata": {},
   "outputs": [],
   "source": [
    "# Sentiment intensity algorithm initialized\n",
    "sia = SentimentIntensityAnalyzer()"
   ]
  },
  {
   "cell_type": "code",
   "execution_count": null,
   "metadata": {},
   "outputs": [],
   "source": [
    "# Example of how SIA scores a corpus.\n",
    "blob = \"For God so loved the world that he gave his only son to die for us\"\n",
    "sia.polarity_scores(blob)"
   ]
  },
  {
   "cell_type": "code",
   "execution_count": null,
   "metadata": {},
   "outputs": [],
   "source": [
    "df.head(2)"
   ]
  },
  {
   "cell_type": "code",
   "execution_count": null,
   "metadata": {},
   "outputs": [],
   "source": [
    "df['vader_sentiment'] = df.text.apply(lambda txt: sia.polarity_scores(txt)['compound'])"
   ]
  },
  {
   "cell_type": "code",
   "execution_count": null,
   "metadata": {},
   "outputs": [],
   "source": [
    "print(\"Sentiment of each group of books by genre\")\n",
    "df.groupby('genre')['genre','vader_sentiment'].mean().sort_values(by='vader_sentiment',ascending=False)"
   ]
  },
  {
   "cell_type": "code",
   "execution_count": null,
   "metadata": {},
   "outputs": [],
   "source": [
    "ax = sns.boxplot(x=\"genre\", y=\"vader_sentiment\", data=df)\n",
    "#ax = sns.swarmplot(x=\"genre\", y=\"vader_sentiment\", data=df, color=\".25\")\n",
    "plt.hlines(df['vader_sentiment'].mean(),0,6, color='limegreen')\n",
    "print(\"Boxplot of mean sentiment of each genre\")"
   ]
  },
  {
   "cell_type": "code",
   "execution_count": null,
   "metadata": {},
   "outputs": [],
   "source": [
    "df_book_avg = df.groupby('book')['book','book_no','vader_sentiment'].mean().sort_values(by='book_no')\n",
    "print(\"Average sentiment by book\")\n",
    "df_book_avg"
   ]
  },
  {
   "cell_type": "code",
   "execution_count": null,
   "metadata": {},
   "outputs": [],
   "source": [
    "#joinging each book into a complete corpus\n",
    "df_books = pd.DataFrame(df.groupby('book')['text'].apply(list))\n",
    "df_books.text = df_books.text.apply(prep.text_join)"
   ]
  },
  {
   "cell_type": "code",
   "execution_count": null,
   "metadata": {},
   "outputs": [],
   "source": [
    "df_books.head()"
   ]
  },
  {
   "cell_type": "code",
   "execution_count": null,
   "metadata": {},
   "outputs": [],
   "source": [
    "#grouping verses by chapter and applying vader sentiment score to each chapter\n",
    "df_chap = pd.DataFrame(df.groupby(['book','ch'])['text'].apply(list))\n",
    "df_chap.text = df_chap.text.apply(prep.text_join)\n",
    "df_chap['vader_sentiment'] = df_chap.text.apply(lambda txt: sia.polarity_scores(txt)['compound'])"
   ]
  },
  {
   "cell_type": "code",
   "execution_count": null,
   "metadata": {},
   "outputs": [],
   "source": [
    "#example of one book grouped by chapter\n",
    "df_chap.loc['Matthew']"
   ]
  },
  {
   "cell_type": "code",
   "execution_count": null,
   "metadata": {},
   "outputs": [],
   "source": [
    "#removing some additional stopwords and grouping by word frequency\n",
    "df_books.text = df_books.text.apply(prep.remove_stopwords, args=(['said','thee','ye','thou','thy',\"'\",'shall','unto'],))\n",
    "raw_count = pd.Series(\" \".join(df_books.text).split()).value_counts()"
   ]
  },
  {
   "cell_type": "code",
   "execution_count": null,
   "metadata": {},
   "outputs": [],
   "source": [
    "raw_count.sort_values(ascending=False)[0:10].plot.barh(width=.9)\n",
    "print('10 most common words')"
   ]
  },
  {
   "cell_type": "code",
   "execution_count": null,
   "metadata": {},
   "outputs": [],
   "source": [
    "df_gospels = df_books[df_books.index.isin(['John','Mark','Matthew','Luke'])]"
   ]
  },
  {
   "cell_type": "code",
   "execution_count": null,
   "metadata": {},
   "outputs": [],
   "source": [
    "df_gospels.text = df_gospels.text.apply(prep.remove_stopwords, args=(['said','thee','ye','thou','thy',\"'\",'shall','unto','things','say'],))"
   ]
  },
  {
   "cell_type": "code",
   "execution_count": null,
   "metadata": {
    "scrolled": true
   },
   "outputs": [],
   "source": [
    "raw_count = pd.Series(\" \".join(df_gospels.text).split()).value_counts()\n",
    "raw_count.sort_values(ascending=False)[0:10].plot.barh(width=.9)\n",
    "print('10 most common words from Gospels')"
   ]
  },
  {
   "cell_type": "code",
   "execution_count": null,
   "metadata": {},
   "outputs": [],
   "source": [
    "#assigning sentiment groups based on vader score. \n",
    "#Very positive, positive, neutral, negative, and very negative\n",
    "df['vader'] = round(df.vader_sentiment,1)\n",
    "df['sentiment_group'] = np.where(df.vader >= .7,'very positive',np.where(df.vader>=.1,'positive',np.where(df.vader == 0,'neutral',np.where(df.vader >= -.6,'negative','very negative'))))"
   ]
  },
  {
   "cell_type": "code",
   "execution_count": null,
   "metadata": {},
   "outputs": [],
   "source": [
    "#total verse count for each book\n",
    "verse_count = df.groupby('book').count()\n",
    "verse_count.reset_index(inplace=True)\n",
    "verse_count = verse_count[['book','sentiment_group']]\n",
    "verse_count.head(2)"
   ]
  },
  {
   "cell_type": "code",
   "execution_count": null,
   "metadata": {},
   "outputs": [],
   "source": [
    "#total verses by book and sentiment group\n",
    "df_likert = df.groupby(['book','sentiment_group'])['id'].count().reset_index()"
   ]
  },
  {
   "cell_type": "code",
   "execution_count": null,
   "metadata": {},
   "outputs": [],
   "source": [
    "df_likert.head(8)"
   ]
  },
  {
   "cell_type": "code",
   "execution_count": null,
   "metadata": {},
   "outputs": [],
   "source": [
    "df_likert_total = pd.merge(df_likert,verse_count,left_on='book',right_on='book')"
   ]
  },
  {
   "cell_type": "code",
   "execution_count": null,
   "metadata": {},
   "outputs": [],
   "source": [
    "df_likert_total.head(2)"
   ]
  },
  {
   "cell_type": "code",
   "execution_count": null,
   "metadata": {},
   "outputs": [],
   "source": [
    "#calculating percent of each sentiment group by book\n",
    "df_likert_total['percent'] = round(df_likert_total.id/df_likert_total.sentiment_group_y,2)"
   ]
  },
  {
   "cell_type": "code",
   "execution_count": null,
   "metadata": {},
   "outputs": [],
   "source": [
    "df_likert_total.head(5)"
   ]
  },
  {
   "cell_type": "code",
   "execution_count": null,
   "metadata": {},
   "outputs": [],
   "source": [
    "#grabbing book # for sorting in Tableau\n",
    "df_books = df.groupby('book')[['book','book_no']].mean()\n",
    "df_books.sort_values(by='book_no')"
   ]
  },
  {
   "cell_type": "code",
   "execution_count": null,
   "metadata": {},
   "outputs": [],
   "source": [
    "#final table for tableau viz\n",
    "#book name, sentiment group, total verses, percent of verse, and book no\n",
    "df_likert_final = pd.merge(df_likert_total,df_books,left_on='book',right_on='book')\n",
    "df_likert_final.columns = ['book','sentiment','sentiment_verses','total_verses','percent','book_no']"
   ]
  },
  {
   "cell_type": "code",
   "execution_count": null,
   "metadata": {},
   "outputs": [],
   "source": [
    "df_likert_final.head(15)"
   ]
  },
  {
   "cell_type": "code",
   "execution_count": null,
   "metadata": {},
   "outputs": [],
   "source": [
    "df_likert_final.to_csv(\"bible_by_book_likert.csv\",index=False)"
   ]
  },
  {
   "cell_type": "code",
   "execution_count": null,
   "metadata": {},
   "outputs": [],
   "source": [
    "pd.read_csv('bible_by_book_likert.csv').sort_values(by='book_no')"
   ]
  },
  {
   "cell_type": "markdown",
   "metadata": {},
   "source": [
    "<img src=\"files/old_testament.png\">"
   ]
  },
  {
   "cell_type": "markdown",
   "metadata": {},
   "source": [
    "<img src=\"files/new_testament.png\">"
   ]
  },
  {
   "cell_type": "markdown",
   "metadata": {},
   "source": [
    "### Book of Mormon"
   ]
  },
  {
   "cell_type": "code",
   "execution_count": 2,
   "metadata": {},
   "outputs": [],
   "source": [
    "df = acquire.bookofmormon_wrangle()\n",
    "#df = pd.read_csv('lds-scriptures.csv')"
   ]
  },
  {
   "cell_type": "code",
   "execution_count": 3,
   "metadata": {},
   "outputs": [
    {
     "data": {
      "text/html": [
       "<div>\n",
       "<style scoped>\n",
       "    .dataframe tbody tr th:only-of-type {\n",
       "        vertical-align: middle;\n",
       "    }\n",
       "\n",
       "    .dataframe tbody tr th {\n",
       "        vertical-align: top;\n",
       "    }\n",
       "\n",
       "    .dataframe thead th {\n",
       "        text-align: right;\n",
       "    }\n",
       "</style>\n",
       "<table border=\"1\" class=\"dataframe\">\n",
       "  <thead>\n",
       "    <tr style=\"text-align: right;\">\n",
       "      <th></th>\n",
       "      <th>id</th>\n",
       "      <th>book_no</th>\n",
       "      <th>book</th>\n",
       "      <th>test</th>\n",
       "      <th>ch</th>\n",
       "      <th>ver</th>\n",
       "      <th>text</th>\n",
       "    </tr>\n",
       "  </thead>\n",
       "  <tbody>\n",
       "    <tr>\n",
       "      <th>31102</th>\n",
       "      <td>3</td>\n",
       "      <td>67</td>\n",
       "      <td>1 Nephi</td>\n",
       "      <td>His Reign and Ministry</td>\n",
       "      <td>1</td>\n",
       "      <td>1</td>\n",
       "      <td>I, Nephi, having been born of goodly parents, ...</td>\n",
       "    </tr>\n",
       "    <tr>\n",
       "      <th>31103</th>\n",
       "      <td>3</td>\n",
       "      <td>67</td>\n",
       "      <td>1 Nephi</td>\n",
       "      <td>His Reign and Ministry</td>\n",
       "      <td>1</td>\n",
       "      <td>2</td>\n",
       "      <td>Yea, I make a record in the language of my fat...</td>\n",
       "    </tr>\n",
       "  </tbody>\n",
       "</table>\n",
       "</div>"
      ],
      "text/plain": [
       "       id  book_no     book                    test  ch  ver  \\\n",
       "31102   3       67  1 Nephi  His Reign and Ministry   1    1   \n",
       "31103   3       67  1 Nephi  His Reign and Ministry   1    2   \n",
       "\n",
       "                                                    text  \n",
       "31102  I, Nephi, having been born of goodly parents, ...  \n",
       "31103  Yea, I make a record in the language of my fat...  "
      ]
     },
     "execution_count": 3,
     "metadata": {},
     "output_type": "execute_result"
    }
   ],
   "source": [
    "df.head(2)"
   ]
  },
  {
   "cell_type": "code",
   "execution_count": null,
   "metadata": {},
   "outputs": [],
   "source": []
  },
  {
   "cell_type": "code",
   "execution_count": null,
   "metadata": {},
   "outputs": [],
   "source": []
  },
  {
   "cell_type": "code",
   "execution_count": null,
   "metadata": {},
   "outputs": [],
   "source": []
  },
  {
   "cell_type": "code",
   "execution_count": null,
   "metadata": {},
   "outputs": [],
   "source": []
  },
  {
   "cell_type": "code",
   "execution_count": null,
   "metadata": {},
   "outputs": [],
   "source": []
  },
  {
   "cell_type": "code",
   "execution_count": null,
   "metadata": {},
   "outputs": [],
   "source": []
  }
 ],
 "metadata": {
  "kernelspec": {
   "display_name": "Python 3",
   "language": "python",
   "name": "python3"
  },
  "language_info": {
   "codemirror_mode": {
    "name": "ipython",
    "version": 3
   },
   "file_extension": ".py",
   "mimetype": "text/x-python",
   "name": "python",
   "nbconvert_exporter": "python",
   "pygments_lexer": "ipython3",
   "version": "3.7.3"
  }
 },
 "nbformat": 4,
 "nbformat_minor": 2
}
